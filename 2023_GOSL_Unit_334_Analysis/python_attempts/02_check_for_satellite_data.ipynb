{
 "cells": [
  {
   "cell_type": "code",
   "execution_count": 4,
   "id": "f5ca8799",
   "metadata": {},
   "outputs": [],
   "source": [
    "from sentinelsat import SentinelAPI, read_geojson, geojson_to_wkt\n",
    "from datetime import date\n",
    "import rasterio\n",
    "import matplotlib.pyplot as plt"
   ]
  },
  {
   "cell_type": "code",
   "execution_count": 5,
   "id": "92166dda",
   "metadata": {},
   "outputs": [],
   "source": [
    "# Setup the API with your NASA Earthdata credentials\n",
    "api = SentinelAPI('nvonoppelnbroni1', 'Carbon12!', 'https://apihub.copernicus.eu/apihub/')"
   ]
  },
  {
   "cell_type": "code",
   "execution_count": 6,
   "id": "5e6f2be3",
   "metadata": {},
   "outputs": [],
   "source": [
    "# Define the bounding box\n",
    "footprint = geojson_to_wkt({\n",
    "    \"type\": \"Polygon\",\n",
    "    \"coordinates\": [[[-60.5, 48.8], [-57, 48.8], [-57, 51.5], [-60.5, 51.5], [-60.5, 48.8]]]\n",
    "})"
   ]
  },
  {
   "cell_type": "code",
   "execution_count": null,
   "id": "e8444361",
   "metadata": {},
   "outputs": [],
   "source": [
    "# Search for Aqua MODIS Level-2 or Level-3 chlorophyll data (You might need to adjust the query parameters)\n",
    "products = api.query(footprint,\n",
    "                     date=('20230824', '20230830'),\n",
    "                     platformname='Aqua',\n",
    "                     producttype='whatever_the_producttype_is_for_chlorophyll')  # Update the product type\n",
    "\n",
    "# Downloading the products\n",
    "for product_id, product_info in products.items():\n",
    "    print(f\"Downloading {product_info['title']}...\")\n",
    "    api.download(product_id)\n",
    "\n",
    "# Visualizing the data (basic)\n",
    "for product_id, product_info in products.items():\n",
    "    with rasterio.open(product_info['title'] + \".SAFE/path_to_band.tif\") as src:\n",
    "        fig, ax = plt.subplots()\n",
    "        rasterio.plot.show(src.read(), ax=ax, title=product_info['title'])\n",
    "        plt.show()"
   ]
  }
 ],
 "metadata": {
  "kernelspec": {
   "display_name": "geo-pip",
   "language": "python",
   "name": "geo-pip"
  },
  "language_info": {
   "codemirror_mode": {
    "name": "ipython",
    "version": 3
   },
   "file_extension": ".py",
   "mimetype": "text/x-python",
   "name": "python",
   "nbconvert_exporter": "python",
   "pygments_lexer": "ipython3",
   "version": "3.11.3"
  }
 },
 "nbformat": 4,
 "nbformat_minor": 5
}
